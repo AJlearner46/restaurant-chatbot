{
 "cells": [
  {
   "cell_type": "markdown",
   "id": "6056402a",
   "metadata": {},
   "source": [
    "importing libraries and Loading Data"
   ]
  },
  {
   "cell_type": "code",
   "execution_count": 1,
   "id": "30388b3a",
   "metadata": {},
   "outputs": [
    {
     "name": "stdout",
     "output_type": "stream",
     "text": [
      "curses is not supported on this machine (please install/reinstall curses for an optimal experience)\n",
      "Scipy not supported!\n",
      "WARNING:tensorflow:From c:\\Users\\ayush\\anaconda3\\envs\\restro_rb\\lib\\site-packages\\tensorflow\\python\\framework\\op_def_library.py:263: colocate_with (from tensorflow.python.framework.ops) is deprecated and will be removed in a future version.\n",
      "Instructions for updating:\n",
      "Colocations handled automatically by placer.\n"
     ]
    },
    {
     "name": "stderr",
     "output_type": "stream",
     "text": [
      "[nltk_data] Error loading punkt: <urlopen error [WinError 10054] An\n",
      "[nltk_data]     existing connection was forcibly closed by the remote\n",
      "[nltk_data]     host>\n",
      "[nltk_data] Error loading wordnet: <urlopen error [WinError 10054] An\n",
      "[nltk_data]     existing connection was forcibly closed by the remote\n",
      "[nltk_data]     host>\n"
     ]
    },
    {
     "data": {
      "text/plain": [
       "False"
      ]
     },
     "execution_count": 1,
     "metadata": {},
     "output_type": "execute_result"
    }
   ],
   "source": [
    "\n",
    "import nltk\n",
    "import os\n",
    "from nltk.stem.lancaster import LancasterStemmer\n",
    "import numpy as np\n",
    "import tflearn\n",
    "import tensorflow as tf\n",
    "import random\n",
    "import json\n",
    "import pickle\n",
    "import datetime\n",
    "nltk.download(\"punkt\")\n",
    "nltk.download(\"wordnet\")"
   ]
  },
  {
   "cell_type": "code",
   "execution_count": null,
   "id": "efd81722",
   "metadata": {},
   "outputs": [],
   "source": [
    "#loading data\n",
    "with open(r\"C:\\Users\\ayush\\project_2year\\chat_bot_3\\intents.json\") as file:\n",
    "    data = json.load(file)"
   ]
  },
  {
   "cell_type": "code",
   "execution_count": null,
   "id": "f586cdd5",
   "metadata": {},
   "outputs": [],
   "source": [
    "seat_count = 50"
   ]
  },
  {
   "cell_type": "code",
   "execution_count": null,
   "id": "0f54f6c6",
   "metadata": {},
   "outputs": [],
   "source": [
    "#intializing empty lists\n",
    "words = []\n",
    "labels = []\n",
    "docs_x = []\n",
    "docs_y = []"
   ]
  },
  {
   "cell_type": "code",
   "execution_count": null,
   "id": "12aeccf7",
   "metadata": {},
   "outputs": [],
   "source": [
    "#looping through our data\n",
    "for intent in data['intents']:\n",
    "    for pattern in intent['patterns']:\n",
    "        pattern = pattern.lower()\n",
    "        #creating a list of words\n",
    "        wrds = nltk.word_tokenize(pattern)\n",
    "        words.extend(wrds)\n",
    "        docs_x.append(wrds)\n",
    "        docs_y.append(intent['tag'])\n",
    "\n",
    "    if intent['tag'] not in labels:\n",
    "        labels.append(intent['tag'])"
   ]
  },
  {
   "cell_type": "code",
   "execution_count": null,
   "id": "d997e615",
   "metadata": {},
   "outputs": [],
   "source": [
    "#stemming\n",
    "stemmer = LancasterStemmer()\n",
    "words = [stemmer.stem(w.lower()) for w in words if w not in \"?\"]\n",
    "words = sorted(list(set(words)))\n",
    "labels = sorted(labels)"
   ]
  },
  {
   "cell_type": "code",
   "execution_count": null,
   "id": "323e2114",
   "metadata": {},
   "outputs": [],
   "source": [
    "#vectorization\n",
    "training = []\n",
    "output = []\n",
    "\n",
    "out_empty = [0 for _ in range(len(labels))]\n",
    "for x,doc in enumerate(docs_x):\n",
    "    bag = []\n",
    "    wrds = [stemmer.stem(w) for w in doc]\n",
    "    for w in words:\n",
    "        if w in wrds:\n",
    "            bag.append(1)\n",
    "        else:\n",
    "            bag.append(0)\n",
    "    output_row = out_empty[:]\n",
    "    output_row[labels.index(docs_y[x])] = 1\n",
    "    training.append(bag)\n",
    "    output.append(output_row)"
   ]
  },
  {
   "cell_type": "code",
   "execution_count": null,
   "id": "c2902df8",
   "metadata": {},
   "outputs": [],
   "source": [
    "#converting training data into numpy arraays\n",
    "training = np.array(training)\n",
    "output = np.array(output)"
   ]
  },
  {
   "cell_type": "code",
   "execution_count": null,
   "id": "3712d423",
   "metadata": {},
   "outputs": [],
   "source": [
    "#saving data to disk\n",
    "with open(\"data.pickle\", \"wb\") as f:\n",
    "    pickle.dump((words, labels, training, output), f)"
   ]
  },
  {
   "cell_type": "code",
   "execution_count": null,
   "id": "8adbc5e2",
   "metadata": {},
   "outputs": [],
   "source": [
    "#bulding a model\n",
    "tf.reset_default_graph()\n",
    "\n",
    "net = tflearn.input_data(shape = [None, len(training[0])])\n",
    "net = tflearn.fully_connected(net,8)\n",
    "net = tflearn.fully_connected(net,8)\n",
    "net = tflearn.fully_connected(net,len(output[0]), activation = \"softmax\")\n",
    "net = tflearn.regression(net)\n",
    "\n",
    "model = tflearn.DNN(net)\n",
    "\n",
    "\n",
    "model.fit(training, output, n_epoch = 200, batch_size = 8, show_metric = True)\n",
    "model.save(\"model.tflearn\")"
   ]
  },
  {
   "cell_type": "code",
   "execution_count": null,
   "id": "af4485cd",
   "metadata": {},
   "outputs": [],
   "source": [
    "#preprocessing input\n",
    "\n",
    "def clean_text(text):\n",
    "    tokens = nltk.word_tokenize(text)\n",
    "    tokens = [stemmer.stem(w) for w in tokens]\n",
    "    return tokens"
   ]
  },
  {
   "cell_type": "code",
   "execution_count": null,
   "id": "04f416f1",
   "metadata": {},
   "outputs": [],
   "source": [
    "def bag_of_words(text, vocab):\n",
    "    tokens = clean_text(text)\n",
    "    bow = [0] * len(vocab)\n",
    "    for w in tokens:\n",
    "        for x, word in enumerate(vocab):\n",
    "            if word == w:\n",
    "                bow[x] = 1\n",
    "    return np.array(bow)"
   ]
  },
  {
   "cell_type": "code",
   "execution_count": null,
   "id": "d358ec96",
   "metadata": {},
   "outputs": [],
   "source": [
    "def pred_class(text, vocab, labels):\n",
    "    bow = bag_of_words(text, vocab)\n",
    "    result = model.predict(np.array([bow]))[0]\n",
    "    thresh = 0.5\n",
    "    y_pred = [[index, res] for index, res in enumerate(result) if res > thresh]\n",
    "    y_pred.sort(key = lambda x: x[1], reverse=True)\n",
    "    return_list = []\n",
    "    for r in y_pred:\n",
    "        return_list.append(labels[r[0]])\n",
    "    return return_list"
   ]
  },
  {
   "cell_type": "code",
   "execution_count": null,
   "id": "2f6b6d6f",
   "metadata": {},
   "outputs": [],
   "source": [
    "def get_response(intents_list, intents_json):\n",
    "    global seat_count \n",
    "    if len(intents_list) == 0:\n",
    "        result = \"Sorry! I don't understood.\"\n",
    "    else:\n",
    "        tag = intents_list[0]\n",
    "        list_of_intents = intents_json[\"intents\"]\n",
    "\n",
    "        # book a table \n",
    "        if (tag ==\"book_table\"):\n",
    "            t = input(\"at which time(hh:mm PM):-\")\n",
    "            tt = t.split(':')[0]\n",
    "            if(tt>=4 and tt<12):\n",
    "                seat_count = seat_count - 1\n",
    "                result = \"Your table has been booked successfully. time is \" + t + \". Remaining tables: \" + str(seat_count)\n",
    "\n",
    "            else:\n",
    "                result = \"please check timing of resturant. Thanks!!\"\n",
    "\n",
    "\n",
    "        elif tag == \"available_tables\":\n",
    "            result = \"There are \" + str(seat_count) + \" tables available at the moment.\"\n",
    "\n",
    "        # menu    \n",
    "        elif tag == \"menu\":\n",
    "             day = datetime.datetime.now()\n",
    "             day = day.strftime(\"%A\")\n",
    "\n",
    "             if day == \"Monday\":\n",
    "                    result = \"Chef recommends: Steamed Tofu with Schezwan Peppercorn, Eggplant with Hot Garlic Sauce, Chicken & Chives, Schezwan Style, Diced Chicken with Dry Red Chilli, Schezwan Pepper\"      \n",
    "             elif day == \"Tuesday\":\n",
    "                result = \"Chef recommends: Asparagus Fresh Shitake & King Oyster Mushroom, Stir Fried Chilli Lotus Stem, Crispy Fried Chicken with Dry Red Pepper, Osmanthus Honey, Hunan Style Chicken\"\n",
    "             elif day == \"Wednesday\":\n",
    "                result = \"Chef recommends: Baby Pokchoi Fresh Shitake Shimeji Straw & Button Mushroom, Mock Meat in Hot Sweet Bean Sauce, Diced Chicken with Bell Peppers & Onions in Hot Garlic Sauce, Chicken in Chilli Black Bean & Soy Sauce\"\n",
    "             elif day == \"Thursday\":\n",
    "                result = \"Chef recommends: Eggplant & Tofu with Chilli Oyster Sauce, Corn, Asparagus Shitake & Snow Peas in Hot Bean Sauce, Diced Chicken Plum Honey Chilli Sauce, Clay Pot Chicken with Dried Bean Curd Sheet\"\n",
    "             elif day == \"Friday\":\n",
    "                result = \"Chef recommends: Kailan in Ginger Wine Sauce, Tofu with Fresh Shitake & Shimeji, Supreme Soy Sauce, Diced Chicken in Black Pepper Sauce, Sliced Chicken in Spicy Mala Sauce\"\n",
    "             elif day == \"Saturday\":\n",
    "                result = \"Chef recommends: Kung Pao Potato, Okra in Hot Bean Sauce, Chicken in Chilli Black Bean & Soy Sauce, Hunan Style Chicken\"\n",
    "             elif day == \"Sunday\":\n",
    "                 result = \"Chef recommends: Stir Fried Bean Sprouts & Tofu with Chives, Vegetable Thou Sou, Diced Chicken Plum Honey Chilli Sauce, Diced Chicken in Black Pepper Sauce\"  \n",
    "\n",
    "        # offers\n",
    "        elif tag == \"offers\":\n",
    "             day = datetime.datetime.now()\n",
    "             day = day.strftime(\"%A\")\n",
    "\n",
    "             if day == \"Monday\": \n",
    "                    result = \"Today Offer: 10% off above ₹200 order\"      \n",
    "             elif day == \"Tuesday\":\n",
    "                result = \"Chef recommends: Asparagus Fresh Shitake & King Oyster Mushroom, Stir Fried Chilli Lotus Stem, Crispy Fried Chicken with Dry Red Pepper, Osmanthus Honey, Hunan Style Chicken\"\n",
    "             elif day == \"Wednesday\":\n",
    "                result = \"Chef recommends: Baby Pokchoi Fresh Shitake Shimeji Straw & Button Mushroom, Mock Meat in Hot Sweet Bean Sauce, Diced Chicken with Bell Peppers & Onions in Hot Garlic Sauce, Chicken in Chilli Black Bean & Soy Sauce\"\n",
    "             elif day == \"Thursday\":\n",
    "                result = \"Chef recommends: Eggplant & Tofu with Chilli Oyster Sauce, Corn, Asparagus Shitake & Snow Peas in Hot Bean Sauce, Diced Chicken Plum Honey Chilli Sauce, Clay Pot Chicken with Dried Bean Curd Sheet\"\n",
    "             elif day == \"Friday\":\n",
    "                result = \"Chef recommends: Kailan in Ginger Wine Sauce, Tofu with Fresh Shitake & Shimeji, Supreme Soy Sauce, Diced Chicken in Black Pepper Sauce, Sliced Chicken in Spicy Mala Sauce\"\n",
    "             elif day == \"Saturday\":\n",
    "                result = \"Chef recommends: Kung Pao Potato, Okra in Hot Bean Sauce, Chicken in Chilli Black Bean & Soy Sauce, Hunan Style Chicken\"\n",
    "             elif day == \"Sunday\":\n",
    "                 result = \"deal of the day : 20% off above ₹500 order\"            \n",
    "        \n",
    "\n",
    "        else:\n",
    "            for i in list_of_intents:\n",
    "                if i[\"tag\"] == tag:\n",
    "                    result = random.choice(i[\"responses\"])\n",
    "                    break\n",
    "\n",
    "    return str(result)"
   ]
  },
  {
   "cell_type": "code",
   "execution_count": null,
   "id": "17ab0067",
   "metadata": {},
   "outputs": [],
   "source": [
    "print(\"PRESS 0 if you don;t want to chat with me.\")\n",
    "\n",
    "while True:\n",
    "    message = input(\"\")\n",
    "    if message == \"0\":\n",
    "        break\n",
    "    intents = pred_class(message, words, labels)\n",
    "    result = get_response(intents, data)\n",
    "    print(result)"
   ]
  }
 ],
 "metadata": {
  "kernelspec": {
   "display_name": "restro_rb",
   "language": "python",
   "name": "python3"
  },
  "language_info": {
   "codemirror_mode": {
    "name": "ipython",
    "version": 3
   },
   "file_extension": ".py",
   "mimetype": "text/x-python",
   "name": "python",
   "nbconvert_exporter": "python",
   "pygments_lexer": "ipython3",
   "version": "3.6.13"
  },
  "vscode": {
   "interpreter": {
    "hash": "803312e0123352ec628c71b6686ae7c61cf9f3a2fd19609972fc1b3e0c7b9581"
   }
  }
 },
 "nbformat": 4,
 "nbformat_minor": 5
}
